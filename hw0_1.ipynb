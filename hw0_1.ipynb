{
  "nbformat": 4,
  "nbformat_minor": 0,
  "metadata": {
    "colab": {
      "name": "hw0-1.ipynb",
      "provenance": [],
      "collapsed_sections": []
    },
    "kernelspec": {
      "name": "python3",
      "display_name": "Python 3"
    }
  },
  "cells": [
    {
      "cell_type": "code",
      "metadata": {
        "id": "_feOXKkPR1Sd",
        "colab_type": "code",
        "colab": {}
      },
      "source": [
        "import pandas as pd"
      ],
      "execution_count": 1,
      "outputs": []
    },
    {
      "cell_type": "code",
      "metadata": {
        "id": "vTBOg3eRR6p9",
        "colab_type": "code",
        "colab": {
          "base_uri": "https://localhost:8080/",
          "height": 197
        },
        "outputId": "53288763-e149-435a-d050-f474ce0e927a"
      },
      "source": [
        "dataset = pd.read_csv('enrollment-by-zipcode.csv')\n",
        "dataset.head(5)"
      ],
      "execution_count": 2,
      "outputs": [
        {
          "output_type": "execute_result",
          "data": {
            "text/html": [
              "<div>\n",
              "<style scoped>\n",
              "    .dataframe tbody tr th:only-of-type {\n",
              "        vertical-align: middle;\n",
              "    }\n",
              "\n",
              "    .dataframe tbody tr th {\n",
              "        vertical-align: top;\n",
              "    }\n",
              "\n",
              "    .dataframe thead th {\n",
              "        text-align: right;\n",
              "    }\n",
              "</style>\n",
              "<table border=\"1\" class=\"dataframe\">\n",
              "  <thead>\n",
              "    <tr style=\"text-align: right;\">\n",
              "      <th></th>\n",
              "      <th>SEMESTER</th>\n",
              "      <th>SPRADDR_ZIP_PR</th>\n",
              "      <th>IRO_INSTITUTION_DESCL</th>\n",
              "      <th>HAWAIIAN_LEGACY</th>\n",
              "      <th>ENROLLMENT</th>\n",
              "    </tr>\n",
              "  </thead>\n",
              "  <tbody>\n",
              "    <tr>\n",
              "      <th>0</th>\n",
              "      <td>Fall 2012</td>\n",
              "      <td>96766</td>\n",
              "      <td>Kaua`i Community College</td>\n",
              "      <td>HAWAIIAN</td>\n",
              "      <td>73</td>\n",
              "    </tr>\n",
              "    <tr>\n",
              "      <th>1</th>\n",
              "      <td>Fall 2012</td>\n",
              "      <td>96814</td>\n",
              "      <td>Kapi`olani Community College</td>\n",
              "      <td>NaN</td>\n",
              "      <td>19</td>\n",
              "    </tr>\n",
              "    <tr>\n",
              "      <th>2</th>\n",
              "      <td>Fall 2012</td>\n",
              "      <td>96792</td>\n",
              "      <td>Leeward Community College</td>\n",
              "      <td>HAWAIIAN</td>\n",
              "      <td>504</td>\n",
              "    </tr>\n",
              "    <tr>\n",
              "      <th>3</th>\n",
              "      <td>Fall 2012</td>\n",
              "      <td>96822</td>\n",
              "      <td>Honolulu Community College</td>\n",
              "      <td>NaN</td>\n",
              "      <td>12</td>\n",
              "    </tr>\n",
              "    <tr>\n",
              "      <th>4</th>\n",
              "      <td>Fall 2012</td>\n",
              "      <td>96821</td>\n",
              "      <td>Kapi`olani Community College</td>\n",
              "      <td>NaN</td>\n",
              "      <td>43</td>\n",
              "    </tr>\n",
              "  </tbody>\n",
              "</table>\n",
              "</div>"
            ],
            "text/plain": [
              "    SEMESTER SPRADDR_ZIP_PR  ... HAWAIIAN_LEGACY ENROLLMENT\n",
              "0  Fall 2012          96766  ...        HAWAIIAN         73\n",
              "1  Fall 2012          96814  ...             NaN         19\n",
              "2  Fall 2012          96792  ...        HAWAIIAN        504\n",
              "3  Fall 2012          96822  ...             NaN         12\n",
              "4  Fall 2012          96821  ...             NaN         43\n",
              "\n",
              "[5 rows x 5 columns]"
            ]
          },
          "metadata": {
            "tags": []
          },
          "execution_count": 2
        }
      ]
    },
    {
      "cell_type": "code",
      "metadata": {
        "id": "L7w9zGs1SWTg",
        "colab_type": "code",
        "colab": {
          "base_uri": "https://localhost:8080/",
          "height": 123
        },
        "outputId": "733b1fc7-a2d7-4615-9355-ed587a3153f9"
      },
      "source": [
        "dataset.isna().any()"
      ],
      "execution_count": 3,
      "outputs": [
        {
          "output_type": "execute_result",
          "data": {
            "text/plain": [
              "SEMESTER                 False\n",
              "SPRADDR_ZIP_PR            True\n",
              "IRO_INSTITUTION_DESCL    False\n",
              "HAWAIIAN_LEGACY           True\n",
              "ENROLLMENT               False\n",
              "dtype: bool"
            ]
          },
          "metadata": {
            "tags": []
          },
          "execution_count": 3
        }
      ]
    },
    {
      "cell_type": "code",
      "metadata": {
        "id": "3uekJ9IqUiMU",
        "colab_type": "code",
        "colab": {
          "base_uri": "https://localhost:8080/",
          "height": 137
        },
        "outputId": "2b6c1bff-1d66-4d2a-e489-1c291007d5b1"
      },
      "source": [
        "def zipcode(zipcode):\n",
        "   index=str(zipcode).find('-')\n",
        "   if index == -1:\n",
        "     return str(zipcode)\n",
        "   else:\n",
        "     return str(zipcode)[:index]\n",
        "\n",
        "\n",
        "dataset = dataset[dataset['SPRADDR_ZIP_PR'].notna()]\n",
        "dataset['SPRADDR_ZIP_PR'] = dataset['SPRADDR_ZIP_PR'].apply(zipcode)\n",
        "dataset.head(3)"
      ],
      "execution_count": 5,
      "outputs": [
        {
          "output_type": "execute_result",
          "data": {
            "text/html": [
              "<div>\n",
              "<style scoped>\n",
              "    .dataframe tbody tr th:only-of-type {\n",
              "        vertical-align: middle;\n",
              "    }\n",
              "\n",
              "    .dataframe tbody tr th {\n",
              "        vertical-align: top;\n",
              "    }\n",
              "\n",
              "    .dataframe thead th {\n",
              "        text-align: right;\n",
              "    }\n",
              "</style>\n",
              "<table border=\"1\" class=\"dataframe\">\n",
              "  <thead>\n",
              "    <tr style=\"text-align: right;\">\n",
              "      <th></th>\n",
              "      <th>SEMESTER</th>\n",
              "      <th>SPRADDR_ZIP_PR</th>\n",
              "      <th>IRO_INSTITUTION_DESCL</th>\n",
              "      <th>HAWAIIAN_LEGACY</th>\n",
              "      <th>ENROLLMENT</th>\n",
              "    </tr>\n",
              "  </thead>\n",
              "  <tbody>\n",
              "    <tr>\n",
              "      <th>0</th>\n",
              "      <td>Fall 2012</td>\n",
              "      <td>96766</td>\n",
              "      <td>Kaua`i Community College</td>\n",
              "      <td>HAWAIIAN</td>\n",
              "      <td>73</td>\n",
              "    </tr>\n",
              "    <tr>\n",
              "      <th>1</th>\n",
              "      <td>Fall 2012</td>\n",
              "      <td>96814</td>\n",
              "      <td>Kapi`olani Community College</td>\n",
              "      <td>NaN</td>\n",
              "      <td>19</td>\n",
              "    </tr>\n",
              "    <tr>\n",
              "      <th>2</th>\n",
              "      <td>Fall 2012</td>\n",
              "      <td>96792</td>\n",
              "      <td>Leeward Community College</td>\n",
              "      <td>HAWAIIAN</td>\n",
              "      <td>504</td>\n",
              "    </tr>\n",
              "  </tbody>\n",
              "</table>\n",
              "</div>"
            ],
            "text/plain": [
              "    SEMESTER SPRADDR_ZIP_PR  ... HAWAIIAN_LEGACY ENROLLMENT\n",
              "0  Fall 2012          96766  ...        HAWAIIAN         73\n",
              "1  Fall 2012          96814  ...             NaN         19\n",
              "2  Fall 2012          96792  ...        HAWAIIAN        504\n",
              "\n",
              "[3 rows x 5 columns]"
            ]
          },
          "metadata": {
            "tags": []
          },
          "execution_count": 5
        }
      ]
    },
    {
      "cell_type": "code",
      "metadata": {
        "id": "ZkRX8gs7XhTO",
        "colab_type": "code",
        "colab": {
          "base_uri": "https://localhost:8080/",
          "height": 197
        },
        "outputId": "f002b7bc-d755-47d6-8f2d-ed18b2e072f6"
      },
      "source": [
        "dataset['YEAR'] = dataset['SEMESTER'].apply(lambda x: x[-4:]).astype(int)\n",
        "dataset.head(5)"
      ],
      "execution_count": 6,
      "outputs": [
        {
          "output_type": "execute_result",
          "data": {
            "text/html": [
              "<div>\n",
              "<style scoped>\n",
              "    .dataframe tbody tr th:only-of-type {\n",
              "        vertical-align: middle;\n",
              "    }\n",
              "\n",
              "    .dataframe tbody tr th {\n",
              "        vertical-align: top;\n",
              "    }\n",
              "\n",
              "    .dataframe thead th {\n",
              "        text-align: right;\n",
              "    }\n",
              "</style>\n",
              "<table border=\"1\" class=\"dataframe\">\n",
              "  <thead>\n",
              "    <tr style=\"text-align: right;\">\n",
              "      <th></th>\n",
              "      <th>SEMESTER</th>\n",
              "      <th>SPRADDR_ZIP_PR</th>\n",
              "      <th>IRO_INSTITUTION_DESCL</th>\n",
              "      <th>HAWAIIAN_LEGACY</th>\n",
              "      <th>ENROLLMENT</th>\n",
              "      <th>YEAR</th>\n",
              "    </tr>\n",
              "  </thead>\n",
              "  <tbody>\n",
              "    <tr>\n",
              "      <th>0</th>\n",
              "      <td>Fall 2012</td>\n",
              "      <td>96766</td>\n",
              "      <td>Kaua`i Community College</td>\n",
              "      <td>HAWAIIAN</td>\n",
              "      <td>73</td>\n",
              "      <td>2012</td>\n",
              "    </tr>\n",
              "    <tr>\n",
              "      <th>1</th>\n",
              "      <td>Fall 2012</td>\n",
              "      <td>96814</td>\n",
              "      <td>Kapi`olani Community College</td>\n",
              "      <td>NaN</td>\n",
              "      <td>19</td>\n",
              "      <td>2012</td>\n",
              "    </tr>\n",
              "    <tr>\n",
              "      <th>2</th>\n",
              "      <td>Fall 2012</td>\n",
              "      <td>96792</td>\n",
              "      <td>Leeward Community College</td>\n",
              "      <td>HAWAIIAN</td>\n",
              "      <td>504</td>\n",
              "      <td>2012</td>\n",
              "    </tr>\n",
              "    <tr>\n",
              "      <th>3</th>\n",
              "      <td>Fall 2012</td>\n",
              "      <td>96822</td>\n",
              "      <td>Honolulu Community College</td>\n",
              "      <td>NaN</td>\n",
              "      <td>12</td>\n",
              "      <td>2012</td>\n",
              "    </tr>\n",
              "    <tr>\n",
              "      <th>4</th>\n",
              "      <td>Fall 2012</td>\n",
              "      <td>96821</td>\n",
              "      <td>Kapi`olani Community College</td>\n",
              "      <td>NaN</td>\n",
              "      <td>43</td>\n",
              "      <td>2012</td>\n",
              "    </tr>\n",
              "  </tbody>\n",
              "</table>\n",
              "</div>"
            ],
            "text/plain": [
              "    SEMESTER SPRADDR_ZIP_PR  ... ENROLLMENT  YEAR\n",
              "0  Fall 2012          96766  ...         73  2012\n",
              "1  Fall 2012          96814  ...         19  2012\n",
              "2  Fall 2012          96792  ...        504  2012\n",
              "3  Fall 2012          96822  ...         12  2012\n",
              "4  Fall 2012          96821  ...         43  2012\n",
              "\n",
              "[5 rows x 6 columns]"
            ]
          },
          "metadata": {
            "tags": []
          },
          "execution_count": 6
        }
      ]
    },
    {
      "cell_type": "code",
      "metadata": {
        "id": "Qf-yxyOzYFfZ",
        "colab_type": "code",
        "colab": {
          "base_uri": "https://localhost:8080/",
          "height": 137
        },
        "outputId": "1050b520-3e31-4c36-a7d8-18d6549872f6"
      },
      "source": [
        "dataset=dataset.drop('HAWAIIAN_LEGACY',axis=1)\n",
        "dataset.head(3)"
      ],
      "execution_count": 7,
      "outputs": [
        {
          "output_type": "execute_result",
          "data": {
            "text/html": [
              "<div>\n",
              "<style scoped>\n",
              "    .dataframe tbody tr th:only-of-type {\n",
              "        vertical-align: middle;\n",
              "    }\n",
              "\n",
              "    .dataframe tbody tr th {\n",
              "        vertical-align: top;\n",
              "    }\n",
              "\n",
              "    .dataframe thead th {\n",
              "        text-align: right;\n",
              "    }\n",
              "</style>\n",
              "<table border=\"1\" class=\"dataframe\">\n",
              "  <thead>\n",
              "    <tr style=\"text-align: right;\">\n",
              "      <th></th>\n",
              "      <th>SEMESTER</th>\n",
              "      <th>SPRADDR_ZIP_PR</th>\n",
              "      <th>IRO_INSTITUTION_DESCL</th>\n",
              "      <th>ENROLLMENT</th>\n",
              "      <th>YEAR</th>\n",
              "    </tr>\n",
              "  </thead>\n",
              "  <tbody>\n",
              "    <tr>\n",
              "      <th>0</th>\n",
              "      <td>Fall 2012</td>\n",
              "      <td>96766</td>\n",
              "      <td>Kaua`i Community College</td>\n",
              "      <td>73</td>\n",
              "      <td>2012</td>\n",
              "    </tr>\n",
              "    <tr>\n",
              "      <th>1</th>\n",
              "      <td>Fall 2012</td>\n",
              "      <td>96814</td>\n",
              "      <td>Kapi`olani Community College</td>\n",
              "      <td>19</td>\n",
              "      <td>2012</td>\n",
              "    </tr>\n",
              "    <tr>\n",
              "      <th>2</th>\n",
              "      <td>Fall 2012</td>\n",
              "      <td>96792</td>\n",
              "      <td>Leeward Community College</td>\n",
              "      <td>504</td>\n",
              "      <td>2012</td>\n",
              "    </tr>\n",
              "  </tbody>\n",
              "</table>\n",
              "</div>"
            ],
            "text/plain": [
              "    SEMESTER SPRADDR_ZIP_PR         IRO_INSTITUTION_DESCL  ENROLLMENT  YEAR\n",
              "0  Fall 2012          96766      Kaua`i Community College          73  2012\n",
              "1  Fall 2012          96814  Kapi`olani Community College          19  2012\n",
              "2  Fall 2012          96792     Leeward Community College         504  2012"
            ]
          },
          "metadata": {
            "tags": []
          },
          "execution_count": 7
        }
      ]
    },
    {
      "cell_type": "code",
      "metadata": {
        "id": "fs5AzKGnYYIR",
        "colab_type": "code",
        "colab": {
          "base_uri": "https://localhost:8080/",
          "height": 406
        },
        "outputId": "b8067637-cf80-4e26-9868-1a0c12bad73f"
      },
      "source": [
        "dataset.dropna()"
      ],
      "execution_count": 8,
      "outputs": [
        {
          "output_type": "execute_result",
          "data": {
            "text/html": [
              "<div>\n",
              "<style scoped>\n",
              "    .dataframe tbody tr th:only-of-type {\n",
              "        vertical-align: middle;\n",
              "    }\n",
              "\n",
              "    .dataframe tbody tr th {\n",
              "        vertical-align: top;\n",
              "    }\n",
              "\n",
              "    .dataframe thead th {\n",
              "        text-align: right;\n",
              "    }\n",
              "</style>\n",
              "<table border=\"1\" class=\"dataframe\">\n",
              "  <thead>\n",
              "    <tr style=\"text-align: right;\">\n",
              "      <th></th>\n",
              "      <th>SEMESTER</th>\n",
              "      <th>SPRADDR_ZIP_PR</th>\n",
              "      <th>IRO_INSTITUTION_DESCL</th>\n",
              "      <th>ENROLLMENT</th>\n",
              "      <th>YEAR</th>\n",
              "    </tr>\n",
              "  </thead>\n",
              "  <tbody>\n",
              "    <tr>\n",
              "      <th>0</th>\n",
              "      <td>Fall 2012</td>\n",
              "      <td>96766</td>\n",
              "      <td>Kaua`i Community College</td>\n",
              "      <td>73</td>\n",
              "      <td>2012</td>\n",
              "    </tr>\n",
              "    <tr>\n",
              "      <th>1</th>\n",
              "      <td>Fall 2012</td>\n",
              "      <td>96814</td>\n",
              "      <td>Kapi`olani Community College</td>\n",
              "      <td>19</td>\n",
              "      <td>2012</td>\n",
              "    </tr>\n",
              "    <tr>\n",
              "      <th>2</th>\n",
              "      <td>Fall 2012</td>\n",
              "      <td>96792</td>\n",
              "      <td>Leeward Community College</td>\n",
              "      <td>504</td>\n",
              "      <td>2012</td>\n",
              "    </tr>\n",
              "    <tr>\n",
              "      <th>3</th>\n",
              "      <td>Fall 2012</td>\n",
              "      <td>96822</td>\n",
              "      <td>Honolulu Community College</td>\n",
              "      <td>12</td>\n",
              "      <td>2012</td>\n",
              "    </tr>\n",
              "    <tr>\n",
              "      <th>4</th>\n",
              "      <td>Fall 2012</td>\n",
              "      <td>96821</td>\n",
              "      <td>Kapi`olani Community College</td>\n",
              "      <td>43</td>\n",
              "      <td>2012</td>\n",
              "    </tr>\n",
              "    <tr>\n",
              "      <th>...</th>\n",
              "      <td>...</td>\n",
              "      <td>...</td>\n",
              "      <td>...</td>\n",
              "      <td>...</td>\n",
              "      <td>...</td>\n",
              "    </tr>\n",
              "    <tr>\n",
              "      <th>87793</th>\n",
              "      <td>Fall 2019</td>\n",
              "      <td>96822</td>\n",
              "      <td>Honolulu Community College</td>\n",
              "      <td>1</td>\n",
              "      <td>2019</td>\n",
              "    </tr>\n",
              "    <tr>\n",
              "      <th>87794</th>\n",
              "      <td>Fall 2019</td>\n",
              "      <td>96817</td>\n",
              "      <td>Honolulu Community College</td>\n",
              "      <td>1</td>\n",
              "      <td>2019</td>\n",
              "    </tr>\n",
              "    <tr>\n",
              "      <th>87795</th>\n",
              "      <td>Fall 2019</td>\n",
              "      <td>96744</td>\n",
              "      <td>Windward Community College</td>\n",
              "      <td>1</td>\n",
              "      <td>2019</td>\n",
              "    </tr>\n",
              "    <tr>\n",
              "      <th>87796</th>\n",
              "      <td>Fall 2019</td>\n",
              "      <td>96822</td>\n",
              "      <td>University of Hawai`i at Manoa</td>\n",
              "      <td>1</td>\n",
              "      <td>2019</td>\n",
              "    </tr>\n",
              "    <tr>\n",
              "      <th>87797</th>\n",
              "      <td>Fall 2019</td>\n",
              "      <td>57103</td>\n",
              "      <td>University of Hawai`i at Manoa</td>\n",
              "      <td>1</td>\n",
              "      <td>2019</td>\n",
              "    </tr>\n",
              "  </tbody>\n",
              "</table>\n",
              "<p>86663 rows × 5 columns</p>\n",
              "</div>"
            ],
            "text/plain": [
              "        SEMESTER SPRADDR_ZIP_PR  ... ENROLLMENT  YEAR\n",
              "0      Fall 2012          96766  ...         73  2012\n",
              "1      Fall 2012          96814  ...         19  2012\n",
              "2      Fall 2012          96792  ...        504  2012\n",
              "3      Fall 2012          96822  ...         12  2012\n",
              "4      Fall 2012          96821  ...         43  2012\n",
              "...          ...            ...  ...        ...   ...\n",
              "87793  Fall 2019          96822  ...          1  2019\n",
              "87794  Fall 2019          96817  ...          1  2019\n",
              "87795  Fall 2019          96744  ...          1  2019\n",
              "87796  Fall 2019          96822  ...          1  2019\n",
              "87797  Fall 2019          57103  ...          1  2019\n",
              "\n",
              "[86663 rows x 5 columns]"
            ]
          },
          "metadata": {
            "tags": []
          },
          "execution_count": 8
        }
      ]
    },
    {
      "cell_type": "code",
      "metadata": {
        "id": "6xVBHYjsY_eJ",
        "colab_type": "code",
        "colab": {}
      },
      "source": [
        "dataset.to_csv('hawaii_enrollments.csv')"
      ],
      "execution_count": 9,
      "outputs": []
    },
    {
      "cell_type": "code",
      "metadata": {
        "id": "YZHCMQ13Z8VF",
        "colab_type": "code",
        "colab": {
          "base_uri": "https://localhost:8080/",
          "height": 34
        },
        "outputId": "55821d53-2923-4043-ea74-720f801e18c5"
      },
      "source": [
        "df = dataset[(dataset['YEAR'] > 2013) & (dataset['YEAR'] <= 2019)]\n",
        "df.size"
      ],
      "execution_count": 10,
      "outputs": [
        {
          "output_type": "execute_result",
          "data": {
            "text/plain": [
              "329735"
            ]
          },
          "metadata": {
            "tags": []
          },
          "execution_count": 10
        }
      ]
    },
    {
      "cell_type": "code",
      "metadata": {
        "id": "7Q8022h6i6PG",
        "colab_type": "code",
        "colab": {
          "base_uri": "https://localhost:8080/",
          "height": 230
        },
        "outputId": "786dd506-e499-4056-af9c-00f7911c3942"
      },
      "source": [
        "#df.groupby('IRO_INSTITUTION_DESCL',sort=True)['ENROLLMENT'].sum()\n",
        "df = df[['ENROLLMENT','IRO_INSTITUTION_DESCL']].groupby(['IRO_INSTITUTION_DESCL']).count()\n",
        "df=df.sort_values\n",
        "df"
      ],
      "execution_count": 11,
      "outputs": [
        {
          "output_type": "execute_result",
          "data": {
            "text/plain": [
              "<bound method DataFrame.sort_values of                                     ENROLLMENT\n",
              "IRO_INSTITUTION_DESCL                         \n",
              "Hawai`i Community College                 3271\n",
              "Honolulu Community College                4375\n",
              "Kapi`olani Community College              7263\n",
              "Kaua`i Community College                  1504\n",
              "Leeward Community College                 5514\n",
              "University of Hawai`i - West O`ahu        3062\n",
              "University of Hawai`i Maui College        3037\n",
              "University of Hawai`i at Hilo             7333\n",
              "University of Hawai`i at Manoa           27339\n",
              "Windward Community College                3249>"
            ]
          },
          "metadata": {
            "tags": []
          },
          "execution_count": 11
        }
      ]
    },
    {
      "cell_type": "code",
      "metadata": {
        "id": "lXgPP9-VsRxM",
        "colab_type": "code",
        "colab": {}
      },
      "source": [
        "df = dataset[(dataset['YEAR'] > 2013) & (dataset['YEAR'] <= 2019)]"
      ],
      "execution_count": 12,
      "outputs": []
    },
    {
      "cell_type": "code",
      "metadata": {
        "id": "cBiwoIu9mHdB",
        "colab_type": "code",
        "colab": {
          "base_uri": "https://localhost:8080/",
          "height": 77
        },
        "outputId": "43c07f85-1956-453a-af3a-2b97a6c178e5"
      },
      "source": [
        "grouped = df.groupby('IRO_INSTITUTION_DESCL')['ENROLLMENT'].sum().reset_index()\n",
        "grouped.sort_values('ENROLLMENT', ascending=False).head(1)"
      ],
      "execution_count": 13,
      "outputs": [
        {
          "output_type": "execute_result",
          "data": {
            "text/html": [
              "<div>\n",
              "<style scoped>\n",
              "    .dataframe tbody tr th:only-of-type {\n",
              "        vertical-align: middle;\n",
              "    }\n",
              "\n",
              "    .dataframe tbody tr th {\n",
              "        vertical-align: top;\n",
              "    }\n",
              "\n",
              "    .dataframe thead th {\n",
              "        text-align: right;\n",
              "    }\n",
              "</style>\n",
              "<table border=\"1\" class=\"dataframe\">\n",
              "  <thead>\n",
              "    <tr style=\"text-align: right;\">\n",
              "      <th></th>\n",
              "      <th>IRO_INSTITUTION_DESCL</th>\n",
              "      <th>ENROLLMENT</th>\n",
              "    </tr>\n",
              "  </thead>\n",
              "  <tbody>\n",
              "    <tr>\n",
              "      <th>8</th>\n",
              "      <td>University of Hawai`i at Manoa</td>\n",
              "      <td>103103</td>\n",
              "    </tr>\n",
              "  </tbody>\n",
              "</table>\n",
              "</div>"
            ],
            "text/plain": [
              "            IRO_INSTITUTION_DESCL  ENROLLMENT\n",
              "8  University of Hawai`i at Manoa      103103"
            ]
          },
          "metadata": {
            "tags": []
          },
          "execution_count": 13
        }
      ]
    },
    {
      "cell_type": "code",
      "metadata": {
        "id": "d4gJLm1zmhT1",
        "colab_type": "code",
        "colab": {
          "base_uri": "https://localhost:8080/",
          "height": 77
        },
        "outputId": "4831e0b7-c270-4bb2-a6b6-7e9dfb0930dd"
      },
      "source": [
        "grouped.sort_values('ENROLLMENT', ascending=True).head(1)"
      ],
      "execution_count": 14,
      "outputs": [
        {
          "output_type": "execute_result",
          "data": {
            "text/html": [
              "<div>\n",
              "<style scoped>\n",
              "    .dataframe tbody tr th:only-of-type {\n",
              "        vertical-align: middle;\n",
              "    }\n",
              "\n",
              "    .dataframe tbody tr th {\n",
              "        vertical-align: top;\n",
              "    }\n",
              "\n",
              "    .dataframe thead th {\n",
              "        text-align: right;\n",
              "    }\n",
              "</style>\n",
              "<table border=\"1\" class=\"dataframe\">\n",
              "  <thead>\n",
              "    <tr style=\"text-align: right;\">\n",
              "      <th></th>\n",
              "      <th>IRO_INSTITUTION_DESCL</th>\n",
              "      <th>ENROLLMENT</th>\n",
              "    </tr>\n",
              "  </thead>\n",
              "  <tbody>\n",
              "    <tr>\n",
              "      <th>3</th>\n",
              "      <td>Kaua`i Community College</td>\n",
              "      <td>8387</td>\n",
              "    </tr>\n",
              "  </tbody>\n",
              "</table>\n",
              "</div>"
            ],
            "text/plain": [
              "      IRO_INSTITUTION_DESCL  ENROLLMENT\n",
              "3  Kaua`i Community College        8387"
            ]
          },
          "metadata": {
            "tags": []
          },
          "execution_count": 14
        }
      ]
    },
    {
      "cell_type": "code",
      "metadata": {
        "id": "TZ57wH2DmyGc",
        "colab_type": "code",
        "colab": {
          "base_uri": "https://localhost:8080/",
          "height": 77
        },
        "outputId": "b994d80a-16c2-424f-b6e9-5b33be79b283"
      },
      "source": [
        "grouped = df[df['IRO_INSTITUTION_DESCL'] == 'University of Hawai`i at Manoa']\n",
        "grouped.sort_values('ENROLLMENT', ascending=False).head(1)"
      ],
      "execution_count": 15,
      "outputs": [
        {
          "output_type": "execute_result",
          "data": {
            "text/html": [
              "<div>\n",
              "<style scoped>\n",
              "    .dataframe tbody tr th:only-of-type {\n",
              "        vertical-align: middle;\n",
              "    }\n",
              "\n",
              "    .dataframe tbody tr th {\n",
              "        vertical-align: top;\n",
              "    }\n",
              "\n",
              "    .dataframe thead th {\n",
              "        text-align: right;\n",
              "    }\n",
              "</style>\n",
              "<table border=\"1\" class=\"dataframe\">\n",
              "  <thead>\n",
              "    <tr style=\"text-align: right;\">\n",
              "      <th></th>\n",
              "      <th>SEMESTER</th>\n",
              "      <th>SPRADDR_ZIP_PR</th>\n",
              "      <th>IRO_INSTITUTION_DESCL</th>\n",
              "      <th>ENROLLMENT</th>\n",
              "      <th>YEAR</th>\n",
              "    </tr>\n",
              "  </thead>\n",
              "  <tbody>\n",
              "    <tr>\n",
              "      <th>58622</th>\n",
              "      <td>Fall 2015</td>\n",
              "      <td>96817</td>\n",
              "      <td>University of Hawai`i at Manoa</td>\n",
              "      <td>277</td>\n",
              "      <td>2015</td>\n",
              "    </tr>\n",
              "  </tbody>\n",
              "</table>\n",
              "</div>"
            ],
            "text/plain": [
              "        SEMESTER SPRADDR_ZIP_PR  ... ENROLLMENT  YEAR\n",
              "58622  Fall 2015          96817  ...        277  2015\n",
              "\n",
              "[1 rows x 5 columns]"
            ]
          },
          "metadata": {
            "tags": []
          },
          "execution_count": 15
        }
      ]
    },
    {
      "cell_type": "code",
      "metadata": {
        "id": "lrcj-6O3nn6w",
        "colab_type": "code",
        "colab": {
          "base_uri": "https://localhost:8080/",
          "height": 77
        },
        "outputId": "0fec0496-dff3-4bab-e2b6-e59d297ae4e2"
      },
      "source": [
        "grouped = df[df['IRO_INSTITUTION_DESCL'] == 'University of Hawai`i at Manoa']\n",
        "grouped.sort_values('ENROLLMENT', ascending=False).head(1)"
      ],
      "execution_count": 16,
      "outputs": [
        {
          "output_type": "execute_result",
          "data": {
            "text/html": [
              "<div>\n",
              "<style scoped>\n",
              "    .dataframe tbody tr th:only-of-type {\n",
              "        vertical-align: middle;\n",
              "    }\n",
              "\n",
              "    .dataframe tbody tr th {\n",
              "        vertical-align: top;\n",
              "    }\n",
              "\n",
              "    .dataframe thead th {\n",
              "        text-align: right;\n",
              "    }\n",
              "</style>\n",
              "<table border=\"1\" class=\"dataframe\">\n",
              "  <thead>\n",
              "    <tr style=\"text-align: right;\">\n",
              "      <th></th>\n",
              "      <th>SEMESTER</th>\n",
              "      <th>SPRADDR_ZIP_PR</th>\n",
              "      <th>IRO_INSTITUTION_DESCL</th>\n",
              "      <th>ENROLLMENT</th>\n",
              "      <th>YEAR</th>\n",
              "    </tr>\n",
              "  </thead>\n",
              "  <tbody>\n",
              "    <tr>\n",
              "      <th>58622</th>\n",
              "      <td>Fall 2015</td>\n",
              "      <td>96817</td>\n",
              "      <td>University of Hawai`i at Manoa</td>\n",
              "      <td>277</td>\n",
              "      <td>2015</td>\n",
              "    </tr>\n",
              "  </tbody>\n",
              "</table>\n",
              "</div>"
            ],
            "text/plain": [
              "        SEMESTER SPRADDR_ZIP_PR  ... ENROLLMENT  YEAR\n",
              "58622  Fall 2015          96817  ...        277  2015\n",
              "\n",
              "[1 rows x 5 columns]"
            ]
          },
          "metadata": {
            "tags": []
          },
          "execution_count": 16
        }
      ]
    },
    {
      "cell_type": "code",
      "metadata": {
        "id": "U8izC4WDNDpY",
        "colab_type": "code",
        "colab": {
          "base_uri": "https://localhost:8080/",
          "height": 265
        },
        "outputId": "ac525ff7-2692-4505-b08b-5b924f72b8b7"
      },
      "source": [
        "!wget https://download.geonames.org/export/zip/US.zip\n",
        "!unzip US.zip"
      ],
      "execution_count": 17,
      "outputs": [
        {
          "output_type": "stream",
          "text": [
            "--2020-08-31 02:46:57--  https://download.geonames.org/export/zip/US.zip\n",
            "Resolving download.geonames.org (download.geonames.org)... 188.40.33.19\n",
            "Connecting to download.geonames.org (download.geonames.org)|188.40.33.19|:443... connected.\n",
            "HTTP request sent, awaiting response... 200 OK\n",
            "Length: 633900 (619K) [application/zip]\n",
            "Saving to: ‘US.zip’\n",
            "\n",
            "US.zip              100%[===================>] 619.04K   458KB/s    in 1.4s    \n",
            "\n",
            "2020-08-31 02:47:00 (458 KB/s) - ‘US.zip’ saved [633900/633900]\n",
            "\n",
            "Archive:  US.zip\n",
            "  inflating: readme.txt              \n",
            "  inflating: US.txt                  \n"
          ],
          "name": "stdout"
        }
      ]
    },
    {
      "cell_type": "code",
      "metadata": {
        "id": "yAxVqZ_3NUdZ",
        "colab_type": "code",
        "colab": {
          "base_uri": "https://localhost:8080/",
          "height": 137
        },
        "outputId": "e74392a2-5558-4a41-e4e7-74b5bba33568"
      },
      "source": [
        "df_zip = pd.read_csv(\"US.txt\", header=None, sep='\\t')\n",
        "df_zip.head(3)"
      ],
      "execution_count": 18,
      "outputs": [
        {
          "output_type": "execute_result",
          "data": {
            "text/html": [
              "<div>\n",
              "<style scoped>\n",
              "    .dataframe tbody tr th:only-of-type {\n",
              "        vertical-align: middle;\n",
              "    }\n",
              "\n",
              "    .dataframe tbody tr th {\n",
              "        vertical-align: top;\n",
              "    }\n",
              "\n",
              "    .dataframe thead th {\n",
              "        text-align: right;\n",
              "    }\n",
              "</style>\n",
              "<table border=\"1\" class=\"dataframe\">\n",
              "  <thead>\n",
              "    <tr style=\"text-align: right;\">\n",
              "      <th></th>\n",
              "      <th>0</th>\n",
              "      <th>1</th>\n",
              "      <th>2</th>\n",
              "      <th>3</th>\n",
              "      <th>4</th>\n",
              "      <th>5</th>\n",
              "      <th>6</th>\n",
              "      <th>7</th>\n",
              "      <th>8</th>\n",
              "      <th>9</th>\n",
              "      <th>10</th>\n",
              "      <th>11</th>\n",
              "    </tr>\n",
              "  </thead>\n",
              "  <tbody>\n",
              "    <tr>\n",
              "      <th>0</th>\n",
              "      <td>US</td>\n",
              "      <td>99553</td>\n",
              "      <td>Akutan</td>\n",
              "      <td>Alaska</td>\n",
              "      <td>AK</td>\n",
              "      <td>Aleutians East</td>\n",
              "      <td>13.0</td>\n",
              "      <td>NaN</td>\n",
              "      <td>NaN</td>\n",
              "      <td>54.1430</td>\n",
              "      <td>-165.7854</td>\n",
              "      <td>1.0</td>\n",
              "    </tr>\n",
              "    <tr>\n",
              "      <th>1</th>\n",
              "      <td>US</td>\n",
              "      <td>99571</td>\n",
              "      <td>Cold Bay</td>\n",
              "      <td>Alaska</td>\n",
              "      <td>AK</td>\n",
              "      <td>Aleutians East</td>\n",
              "      <td>13.0</td>\n",
              "      <td>NaN</td>\n",
              "      <td>NaN</td>\n",
              "      <td>55.1858</td>\n",
              "      <td>-162.7211</td>\n",
              "      <td>1.0</td>\n",
              "    </tr>\n",
              "    <tr>\n",
              "      <th>2</th>\n",
              "      <td>US</td>\n",
              "      <td>99583</td>\n",
              "      <td>False Pass</td>\n",
              "      <td>Alaska</td>\n",
              "      <td>AK</td>\n",
              "      <td>Aleutians East</td>\n",
              "      <td>13.0</td>\n",
              "      <td>NaN</td>\n",
              "      <td>NaN</td>\n",
              "      <td>54.8542</td>\n",
              "      <td>-163.4113</td>\n",
              "      <td>1.0</td>\n",
              "    </tr>\n",
              "  </tbody>\n",
              "</table>\n",
              "</div>"
            ],
            "text/plain": [
              "   0      1           2       3   4   ...   7   8        9         10   11\n",
              "0  US  99553      Akutan  Alaska  AK  ...  NaN NaN  54.1430 -165.7854  1.0\n",
              "1  US  99571    Cold Bay  Alaska  AK  ...  NaN NaN  55.1858 -162.7211  1.0\n",
              "2  US  99583  False Pass  Alaska  AK  ...  NaN NaN  54.8542 -163.4113  1.0\n",
              "\n",
              "[3 rows x 12 columns]"
            ]
          },
          "metadata": {
            "tags": []
          },
          "execution_count": 18
        }
      ]
    },
    {
      "cell_type": "code",
      "metadata": {
        "id": "5lcuxEGJORwd",
        "colab_type": "code",
        "colab": {
          "base_uri": "https://localhost:8080/",
          "height": 137
        },
        "outputId": "b44c48ba-04bc-40a5-bacc-cf6bbc8d817a"
      },
      "source": [
        "df1=df_zip.rename(columns={1: \"SPRADDR_ZIP_PR\", 4: \"state\"})\n",
        "df1['SPRADDR_ZIP_PR']=df1['SPRADDR_ZIP_PR'].astype(int)\n",
        "df1.head(3)"
      ],
      "execution_count": 19,
      "outputs": [
        {
          "output_type": "execute_result",
          "data": {
            "text/html": [
              "<div>\n",
              "<style scoped>\n",
              "    .dataframe tbody tr th:only-of-type {\n",
              "        vertical-align: middle;\n",
              "    }\n",
              "\n",
              "    .dataframe tbody tr th {\n",
              "        vertical-align: top;\n",
              "    }\n",
              "\n",
              "    .dataframe thead th {\n",
              "        text-align: right;\n",
              "    }\n",
              "</style>\n",
              "<table border=\"1\" class=\"dataframe\">\n",
              "  <thead>\n",
              "    <tr style=\"text-align: right;\">\n",
              "      <th></th>\n",
              "      <th>0</th>\n",
              "      <th>SPRADDR_ZIP_PR</th>\n",
              "      <th>2</th>\n",
              "      <th>3</th>\n",
              "      <th>state</th>\n",
              "      <th>5</th>\n",
              "      <th>6</th>\n",
              "      <th>7</th>\n",
              "      <th>8</th>\n",
              "      <th>9</th>\n",
              "      <th>10</th>\n",
              "      <th>11</th>\n",
              "    </tr>\n",
              "  </thead>\n",
              "  <tbody>\n",
              "    <tr>\n",
              "      <th>0</th>\n",
              "      <td>US</td>\n",
              "      <td>99553</td>\n",
              "      <td>Akutan</td>\n",
              "      <td>Alaska</td>\n",
              "      <td>AK</td>\n",
              "      <td>Aleutians East</td>\n",
              "      <td>13.0</td>\n",
              "      <td>NaN</td>\n",
              "      <td>NaN</td>\n",
              "      <td>54.1430</td>\n",
              "      <td>-165.7854</td>\n",
              "      <td>1.0</td>\n",
              "    </tr>\n",
              "    <tr>\n",
              "      <th>1</th>\n",
              "      <td>US</td>\n",
              "      <td>99571</td>\n",
              "      <td>Cold Bay</td>\n",
              "      <td>Alaska</td>\n",
              "      <td>AK</td>\n",
              "      <td>Aleutians East</td>\n",
              "      <td>13.0</td>\n",
              "      <td>NaN</td>\n",
              "      <td>NaN</td>\n",
              "      <td>55.1858</td>\n",
              "      <td>-162.7211</td>\n",
              "      <td>1.0</td>\n",
              "    </tr>\n",
              "    <tr>\n",
              "      <th>2</th>\n",
              "      <td>US</td>\n",
              "      <td>99583</td>\n",
              "      <td>False Pass</td>\n",
              "      <td>Alaska</td>\n",
              "      <td>AK</td>\n",
              "      <td>Aleutians East</td>\n",
              "      <td>13.0</td>\n",
              "      <td>NaN</td>\n",
              "      <td>NaN</td>\n",
              "      <td>54.8542</td>\n",
              "      <td>-163.4113</td>\n",
              "      <td>1.0</td>\n",
              "    </tr>\n",
              "  </tbody>\n",
              "</table>\n",
              "</div>"
            ],
            "text/plain": [
              "    0  SPRADDR_ZIP_PR           2       3  ...   8        9        10   11\n",
              "0  US           99553      Akutan  Alaska  ... NaN  54.1430 -165.7854  1.0\n",
              "1  US           99571    Cold Bay  Alaska  ... NaN  55.1858 -162.7211  1.0\n",
              "2  US           99583  False Pass  Alaska  ... NaN  54.8542 -163.4113  1.0\n",
              "\n",
              "[3 rows x 12 columns]"
            ]
          },
          "metadata": {
            "tags": []
          },
          "execution_count": 19
        }
      ]
    },
    {
      "cell_type": "code",
      "metadata": {
        "id": "ED1zkvAvQ-ny",
        "colab_type": "code",
        "colab": {}
      },
      "source": [
        "df=df[df.SPRADDR_ZIP_PR.apply(lambda x: x.isnumeric())]"
      ],
      "execution_count": 20,
      "outputs": []
    },
    {
      "cell_type": "code",
      "metadata": {
        "id": "qlXe8HGIQpWx",
        "colab_type": "code",
        "colab": {
          "base_uri": "https://localhost:8080/",
          "height": 137
        },
        "outputId": "b64a587b-d79d-4ee6-844a-bbc540b7839b"
      },
      "source": [
        "df['SPRADDR_ZIP_PR']=df['SPRADDR_ZIP_PR'].astype(int)\n",
        "df.head(3)"
      ],
      "execution_count": 21,
      "outputs": [
        {
          "output_type": "execute_result",
          "data": {
            "text/html": [
              "<div>\n",
              "<style scoped>\n",
              "    .dataframe tbody tr th:only-of-type {\n",
              "        vertical-align: middle;\n",
              "    }\n",
              "\n",
              "    .dataframe tbody tr th {\n",
              "        vertical-align: top;\n",
              "    }\n",
              "\n",
              "    .dataframe thead th {\n",
              "        text-align: right;\n",
              "    }\n",
              "</style>\n",
              "<table border=\"1\" class=\"dataframe\">\n",
              "  <thead>\n",
              "    <tr style=\"text-align: right;\">\n",
              "      <th></th>\n",
              "      <th>SEMESTER</th>\n",
              "      <th>SPRADDR_ZIP_PR</th>\n",
              "      <th>IRO_INSTITUTION_DESCL</th>\n",
              "      <th>ENROLLMENT</th>\n",
              "      <th>YEAR</th>\n",
              "    </tr>\n",
              "  </thead>\n",
              "  <tbody>\n",
              "    <tr>\n",
              "      <th>2668</th>\n",
              "      <td>Fall 2014</td>\n",
              "      <td>96746</td>\n",
              "      <td>Kaua`i Community College</td>\n",
              "      <td>101</td>\n",
              "      <td>2014</td>\n",
              "    </tr>\n",
              "    <tr>\n",
              "      <th>2669</th>\n",
              "      <td>Fall 2014</td>\n",
              "      <td>96786</td>\n",
              "      <td>Kapi`olani Community College</td>\n",
              "      <td>15</td>\n",
              "      <td>2014</td>\n",
              "    </tr>\n",
              "    <tr>\n",
              "      <th>2670</th>\n",
              "      <td>Fall 2014</td>\n",
              "      <td>96753</td>\n",
              "      <td>University of Hawai`i Maui College</td>\n",
              "      <td>208</td>\n",
              "      <td>2014</td>\n",
              "    </tr>\n",
              "  </tbody>\n",
              "</table>\n",
              "</div>"
            ],
            "text/plain": [
              "       SEMESTER  SPRADDR_ZIP_PR  ... ENROLLMENT  YEAR\n",
              "2668  Fall 2014           96746  ...        101  2014\n",
              "2669  Fall 2014           96786  ...         15  2014\n",
              "2670  Fall 2014           96753  ...        208  2014\n",
              "\n",
              "[3 rows x 5 columns]"
            ]
          },
          "metadata": {
            "tags": []
          },
          "execution_count": 21
        }
      ]
    },
    {
      "cell_type": "code",
      "metadata": {
        "id": "s5reCi8dQfUN",
        "colab_type": "code",
        "colab": {
          "base_uri": "https://localhost:8080/",
          "height": 247
        },
        "outputId": "73cf723a-d900-4779-c3b6-4abcafb664dc"
      },
      "source": [
        "df1.dtypes"
      ],
      "execution_count": 22,
      "outputs": [
        {
          "output_type": "execute_result",
          "data": {
            "text/plain": [
              "0                  object\n",
              "SPRADDR_ZIP_PR      int64\n",
              "2                  object\n",
              "3                  object\n",
              "state              object\n",
              "5                  object\n",
              "6                 float64\n",
              "7                  object\n",
              "8                 float64\n",
              "9                 float64\n",
              "10                float64\n",
              "11                float64\n",
              "dtype: object"
            ]
          },
          "metadata": {
            "tags": []
          },
          "execution_count": 22
        }
      ]
    },
    {
      "cell_type": "code",
      "metadata": {
        "id": "X8cEDquZQkRq",
        "colab_type": "code",
        "colab": {
          "base_uri": "https://localhost:8080/",
          "height": 123
        },
        "outputId": "db5d68f9-b7c8-4da2-83ef-ad37a2119eb7"
      },
      "source": [
        "df.dtypes"
      ],
      "execution_count": 23,
      "outputs": [
        {
          "output_type": "execute_result",
          "data": {
            "text/plain": [
              "SEMESTER                 object\n",
              "SPRADDR_ZIP_PR            int64\n",
              "IRO_INSTITUTION_DESCL    object\n",
              "ENROLLMENT                int64\n",
              "YEAR                      int64\n",
              "dtype: object"
            ]
          },
          "metadata": {
            "tags": []
          },
          "execution_count": 23
        }
      ]
    },
    {
      "cell_type": "code",
      "metadata": {
        "id": "gG4x3r1GPPlK",
        "colab_type": "code",
        "colab": {
          "base_uri": "https://localhost:8080/",
          "height": 154
        },
        "outputId": "40745c4d-4290-4f76-a7b6-afaf071a8d2e"
      },
      "source": [
        "df_cd = pd.merge(df, df1, on = 'SPRADDR_ZIP_PR')\n",
        "df_cd.head(3)"
      ],
      "execution_count": 24,
      "outputs": [
        {
          "output_type": "execute_result",
          "data": {
            "text/html": [
              "<div>\n",
              "<style scoped>\n",
              "    .dataframe tbody tr th:only-of-type {\n",
              "        vertical-align: middle;\n",
              "    }\n",
              "\n",
              "    .dataframe tbody tr th {\n",
              "        vertical-align: top;\n",
              "    }\n",
              "\n",
              "    .dataframe thead th {\n",
              "        text-align: right;\n",
              "    }\n",
              "</style>\n",
              "<table border=\"1\" class=\"dataframe\">\n",
              "  <thead>\n",
              "    <tr style=\"text-align: right;\">\n",
              "      <th></th>\n",
              "      <th>SEMESTER</th>\n",
              "      <th>SPRADDR_ZIP_PR</th>\n",
              "      <th>IRO_INSTITUTION_DESCL</th>\n",
              "      <th>ENROLLMENT</th>\n",
              "      <th>YEAR</th>\n",
              "      <th>0</th>\n",
              "      <th>2</th>\n",
              "      <th>3</th>\n",
              "      <th>state</th>\n",
              "      <th>5</th>\n",
              "      <th>6</th>\n",
              "      <th>7</th>\n",
              "      <th>8</th>\n",
              "      <th>9</th>\n",
              "      <th>10</th>\n",
              "      <th>11</th>\n",
              "    </tr>\n",
              "  </thead>\n",
              "  <tbody>\n",
              "    <tr>\n",
              "      <th>0</th>\n",
              "      <td>Fall 2014</td>\n",
              "      <td>96746</td>\n",
              "      <td>Kaua`i Community College</td>\n",
              "      <td>101</td>\n",
              "      <td>2014</td>\n",
              "      <td>US</td>\n",
              "      <td>Kapaa</td>\n",
              "      <td>Hawaii</td>\n",
              "      <td>HI</td>\n",
              "      <td>Kauai</td>\n",
              "      <td>7.0</td>\n",
              "      <td>NaN</td>\n",
              "      <td>NaN</td>\n",
              "      <td>22.0868</td>\n",
              "      <td>-159.3448</td>\n",
              "      <td>4.0</td>\n",
              "    </tr>\n",
              "    <tr>\n",
              "      <th>1</th>\n",
              "      <td>Fall 2014</td>\n",
              "      <td>96746</td>\n",
              "      <td>Kaua`i Community College</td>\n",
              "      <td>58</td>\n",
              "      <td>2014</td>\n",
              "      <td>US</td>\n",
              "      <td>Kapaa</td>\n",
              "      <td>Hawaii</td>\n",
              "      <td>HI</td>\n",
              "      <td>Kauai</td>\n",
              "      <td>7.0</td>\n",
              "      <td>NaN</td>\n",
              "      <td>NaN</td>\n",
              "      <td>22.0868</td>\n",
              "      <td>-159.3448</td>\n",
              "      <td>4.0</td>\n",
              "    </tr>\n",
              "    <tr>\n",
              "      <th>2</th>\n",
              "      <td>Fall 2014</td>\n",
              "      <td>96746</td>\n",
              "      <td>University of Hawai`i Maui College</td>\n",
              "      <td>5</td>\n",
              "      <td>2014</td>\n",
              "      <td>US</td>\n",
              "      <td>Kapaa</td>\n",
              "      <td>Hawaii</td>\n",
              "      <td>HI</td>\n",
              "      <td>Kauai</td>\n",
              "      <td>7.0</td>\n",
              "      <td>NaN</td>\n",
              "      <td>NaN</td>\n",
              "      <td>22.0868</td>\n",
              "      <td>-159.3448</td>\n",
              "      <td>4.0</td>\n",
              "    </tr>\n",
              "  </tbody>\n",
              "</table>\n",
              "</div>"
            ],
            "text/plain": [
              "    SEMESTER  SPRADDR_ZIP_PR  ...        10   11\n",
              "0  Fall 2014           96746  ... -159.3448  4.0\n",
              "1  Fall 2014           96746  ... -159.3448  4.0\n",
              "2  Fall 2014           96746  ... -159.3448  4.0\n",
              "\n",
              "[3 rows x 16 columns]"
            ]
          },
          "metadata": {
            "tags": []
          },
          "execution_count": 24
        }
      ]
    },
    {
      "cell_type": "code",
      "metadata": {
        "id": "tTlhrhJJRSQ0",
        "colab_type": "code",
        "colab": {
          "base_uri": "https://localhost:8080/",
          "height": 593
        },
        "outputId": "025536aa-0c8d-487e-b12f-a6c0ab7b809e"
      },
      "source": [
        "hwai = df_cd[df_cd['IRO_INSTITUTION_DESCL'] == 'University of Hawai`i at Manoa']\n",
        "hwai"
      ],
      "execution_count": 25,
      "outputs": [
        {
          "output_type": "execute_result",
          "data": {
            "text/html": [
              "<div>\n",
              "<style scoped>\n",
              "    .dataframe tbody tr th:only-of-type {\n",
              "        vertical-align: middle;\n",
              "    }\n",
              "\n",
              "    .dataframe tbody tr th {\n",
              "        vertical-align: top;\n",
              "    }\n",
              "\n",
              "    .dataframe thead th {\n",
              "        text-align: right;\n",
              "    }\n",
              "</style>\n",
              "<table border=\"1\" class=\"dataframe\">\n",
              "  <thead>\n",
              "    <tr style=\"text-align: right;\">\n",
              "      <th></th>\n",
              "      <th>SEMESTER</th>\n",
              "      <th>SPRADDR_ZIP_PR</th>\n",
              "      <th>IRO_INSTITUTION_DESCL</th>\n",
              "      <th>ENROLLMENT</th>\n",
              "      <th>YEAR</th>\n",
              "      <th>0</th>\n",
              "      <th>2</th>\n",
              "      <th>3</th>\n",
              "      <th>state</th>\n",
              "      <th>5</th>\n",
              "      <th>6</th>\n",
              "      <th>7</th>\n",
              "      <th>8</th>\n",
              "      <th>9</th>\n",
              "      <th>10</th>\n",
              "      <th>11</th>\n",
              "    </tr>\n",
              "  </thead>\n",
              "  <tbody>\n",
              "    <tr>\n",
              "      <th>3</th>\n",
              "      <td>Fall 2014</td>\n",
              "      <td>96746</td>\n",
              "      <td>University of Hawai`i at Manoa</td>\n",
              "      <td>1</td>\n",
              "      <td>2014</td>\n",
              "      <td>US</td>\n",
              "      <td>Kapaa</td>\n",
              "      <td>Hawaii</td>\n",
              "      <td>HI</td>\n",
              "      <td>Kauai</td>\n",
              "      <td>7.0</td>\n",
              "      <td>NaN</td>\n",
              "      <td>NaN</td>\n",
              "      <td>22.0868</td>\n",
              "      <td>-159.3448</td>\n",
              "      <td>4.0</td>\n",
              "    </tr>\n",
              "    <tr>\n",
              "      <th>5</th>\n",
              "      <td>Fall 2014</td>\n",
              "      <td>96746</td>\n",
              "      <td>University of Hawai`i at Manoa</td>\n",
              "      <td>2</td>\n",
              "      <td>2014</td>\n",
              "      <td>US</td>\n",
              "      <td>Kapaa</td>\n",
              "      <td>Hawaii</td>\n",
              "      <td>HI</td>\n",
              "      <td>Kauai</td>\n",
              "      <td>7.0</td>\n",
              "      <td>NaN</td>\n",
              "      <td>NaN</td>\n",
              "      <td>22.0868</td>\n",
              "      <td>-159.3448</td>\n",
              "      <td>4.0</td>\n",
              "    </tr>\n",
              "    <tr>\n",
              "      <th>18</th>\n",
              "      <td>Fall 2015</td>\n",
              "      <td>96746</td>\n",
              "      <td>University of Hawai`i at Manoa</td>\n",
              "      <td>1</td>\n",
              "      <td>2015</td>\n",
              "      <td>US</td>\n",
              "      <td>Kapaa</td>\n",
              "      <td>Hawaii</td>\n",
              "      <td>HI</td>\n",
              "      <td>Kauai</td>\n",
              "      <td>7.0</td>\n",
              "      <td>NaN</td>\n",
              "      <td>NaN</td>\n",
              "      <td>22.0868</td>\n",
              "      <td>-159.3448</td>\n",
              "      <td>4.0</td>\n",
              "    </tr>\n",
              "    <tr>\n",
              "      <th>21</th>\n",
              "      <td>Fall 2016</td>\n",
              "      <td>96746</td>\n",
              "      <td>University of Hawai`i at Manoa</td>\n",
              "      <td>7</td>\n",
              "      <td>2016</td>\n",
              "      <td>US</td>\n",
              "      <td>Kapaa</td>\n",
              "      <td>Hawaii</td>\n",
              "      <td>HI</td>\n",
              "      <td>Kauai</td>\n",
              "      <td>7.0</td>\n",
              "      <td>NaN</td>\n",
              "      <td>NaN</td>\n",
              "      <td>22.0868</td>\n",
              "      <td>-159.3448</td>\n",
              "      <td>4.0</td>\n",
              "    </tr>\n",
              "    <tr>\n",
              "      <th>23</th>\n",
              "      <td>Fall 2016</td>\n",
              "      <td>96746</td>\n",
              "      <td>University of Hawai`i at Manoa</td>\n",
              "      <td>3</td>\n",
              "      <td>2016</td>\n",
              "      <td>US</td>\n",
              "      <td>Kapaa</td>\n",
              "      <td>Hawaii</td>\n",
              "      <td>HI</td>\n",
              "      <td>Kauai</td>\n",
              "      <td>7.0</td>\n",
              "      <td>NaN</td>\n",
              "      <td>NaN</td>\n",
              "      <td>22.0868</td>\n",
              "      <td>-159.3448</td>\n",
              "      <td>4.0</td>\n",
              "    </tr>\n",
              "    <tr>\n",
              "      <th>...</th>\n",
              "      <td>...</td>\n",
              "      <td>...</td>\n",
              "      <td>...</td>\n",
              "      <td>...</td>\n",
              "      <td>...</td>\n",
              "      <td>...</td>\n",
              "      <td>...</td>\n",
              "      <td>...</td>\n",
              "      <td>...</td>\n",
              "      <td>...</td>\n",
              "      <td>...</td>\n",
              "      <td>...</td>\n",
              "      <td>...</td>\n",
              "      <td>...</td>\n",
              "      <td>...</td>\n",
              "      <td>...</td>\n",
              "    </tr>\n",
              "    <tr>\n",
              "      <th>61851</th>\n",
              "      <td>Fall 2019</td>\n",
              "      <td>75069</td>\n",
              "      <td>University of Hawai`i at Manoa</td>\n",
              "      <td>1</td>\n",
              "      <td>2019</td>\n",
              "      <td>US</td>\n",
              "      <td>Mckinney</td>\n",
              "      <td>Texas</td>\n",
              "      <td>TX</td>\n",
              "      <td>Collin</td>\n",
              "      <td>85.0</td>\n",
              "      <td>NaN</td>\n",
              "      <td>NaN</td>\n",
              "      <td>33.1976</td>\n",
              "      <td>-96.6153</td>\n",
              "      <td>4.0</td>\n",
              "    </tr>\n",
              "    <tr>\n",
              "      <th>61852</th>\n",
              "      <td>Fall 2019</td>\n",
              "      <td>91106</td>\n",
              "      <td>University of Hawai`i at Manoa</td>\n",
              "      <td>1</td>\n",
              "      <td>2019</td>\n",
              "      <td>US</td>\n",
              "      <td>Pasadena</td>\n",
              "      <td>California</td>\n",
              "      <td>CA</td>\n",
              "      <td>Los Angeles</td>\n",
              "      <td>37.0</td>\n",
              "      <td>NaN</td>\n",
              "      <td>NaN</td>\n",
              "      <td>34.1435</td>\n",
              "      <td>-118.1266</td>\n",
              "      <td>4.0</td>\n",
              "    </tr>\n",
              "    <tr>\n",
              "      <th>61853</th>\n",
              "      <td>Fall 2019</td>\n",
              "      <td>55051</td>\n",
              "      <td>University of Hawai`i at Manoa</td>\n",
              "      <td>1</td>\n",
              "      <td>2019</td>\n",
              "      <td>US</td>\n",
              "      <td>Mora</td>\n",
              "      <td>Minnesota</td>\n",
              "      <td>MN</td>\n",
              "      <td>Kanabec</td>\n",
              "      <td>65.0</td>\n",
              "      <td>NaN</td>\n",
              "      <td>NaN</td>\n",
              "      <td>45.8958</td>\n",
              "      <td>-93.2942</td>\n",
              "      <td>1.0</td>\n",
              "    </tr>\n",
              "    <tr>\n",
              "      <th>61860</th>\n",
              "      <td>Fall 2019</td>\n",
              "      <td>55103</td>\n",
              "      <td>University of Hawai`i at Manoa</td>\n",
              "      <td>1</td>\n",
              "      <td>2019</td>\n",
              "      <td>US</td>\n",
              "      <td>Saint Paul</td>\n",
              "      <td>Minnesota</td>\n",
              "      <td>MN</td>\n",
              "      <td>Ramsey</td>\n",
              "      <td>123.0</td>\n",
              "      <td>NaN</td>\n",
              "      <td>NaN</td>\n",
              "      <td>44.9608</td>\n",
              "      <td>-93.1216</td>\n",
              "      <td>4.0</td>\n",
              "    </tr>\n",
              "    <tr>\n",
              "      <th>61861</th>\n",
              "      <td>Fall 2019</td>\n",
              "      <td>70124</td>\n",
              "      <td>University of Hawai`i at Manoa</td>\n",
              "      <td>1</td>\n",
              "      <td>2019</td>\n",
              "      <td>US</td>\n",
              "      <td>New Orleans</td>\n",
              "      <td>Louisiana</td>\n",
              "      <td>LA</td>\n",
              "      <td>Orleans</td>\n",
              "      <td>71.0</td>\n",
              "      <td>NaN</td>\n",
              "      <td>NaN</td>\n",
              "      <td>30.0071</td>\n",
              "      <td>-90.1094</td>\n",
              "      <td>4.0</td>\n",
              "    </tr>\n",
              "  </tbody>\n",
              "</table>\n",
              "<p>25294 rows × 16 columns</p>\n",
              "</div>"
            ],
            "text/plain": [
              "        SEMESTER  SPRADDR_ZIP_PR  ...        10   11\n",
              "3      Fall 2014           96746  ... -159.3448  4.0\n",
              "5      Fall 2014           96746  ... -159.3448  4.0\n",
              "18     Fall 2015           96746  ... -159.3448  4.0\n",
              "21     Fall 2016           96746  ... -159.3448  4.0\n",
              "23     Fall 2016           96746  ... -159.3448  4.0\n",
              "...          ...             ...  ...       ...  ...\n",
              "61851  Fall 2019           75069  ...  -96.6153  4.0\n",
              "61852  Fall 2019           91106  ... -118.1266  4.0\n",
              "61853  Fall 2019           55051  ...  -93.2942  1.0\n",
              "61860  Fall 2019           55103  ...  -93.1216  4.0\n",
              "61861  Fall 2019           70124  ...  -90.1094  4.0\n",
              "\n",
              "[25294 rows x 16 columns]"
            ]
          },
          "metadata": {
            "tags": []
          },
          "execution_count": 25
        }
      ]
    },
    {
      "cell_type": "code",
      "metadata": {
        "id": "FNvXYktORnql",
        "colab_type": "code",
        "colab": {
          "base_uri": "https://localhost:8080/",
          "height": 34
        },
        "outputId": "2b4439c8-cf69-47e2-9861-aab4d06de257"
      },
      "source": [
        "avg = hwai['SPRADDR_ZIP_PR']\n",
        "avg.mean(axis=0)"
      ],
      "execution_count": 26,
      "outputs": [
        {
          "output_type": "execute_result",
          "data": {
            "text/plain": [
              "80401.33102712105"
            ]
          },
          "metadata": {
            "tags": []
          },
          "execution_count": 26
        }
      ]
    },
    {
      "cell_type": "code",
      "metadata": {
        "id": "kYdyAupxSYI2",
        "colab_type": "code",
        "colab": {
          "base_uri": "https://localhost:8080/",
          "height": 406
        },
        "outputId": "2b91208d-1bc6-4a0e-fbfb-dacb8505eac7"
      },
      "source": [
        "df_cd[['SPRADDR_ZIP_PR','state']]"
      ],
      "execution_count": 27,
      "outputs": [
        {
          "output_type": "execute_result",
          "data": {
            "text/html": [
              "<div>\n",
              "<style scoped>\n",
              "    .dataframe tbody tr th:only-of-type {\n",
              "        vertical-align: middle;\n",
              "    }\n",
              "\n",
              "    .dataframe tbody tr th {\n",
              "        vertical-align: top;\n",
              "    }\n",
              "\n",
              "    .dataframe thead th {\n",
              "        text-align: right;\n",
              "    }\n",
              "</style>\n",
              "<table border=\"1\" class=\"dataframe\">\n",
              "  <thead>\n",
              "    <tr style=\"text-align: right;\">\n",
              "      <th></th>\n",
              "      <th>SPRADDR_ZIP_PR</th>\n",
              "      <th>state</th>\n",
              "    </tr>\n",
              "  </thead>\n",
              "  <tbody>\n",
              "    <tr>\n",
              "      <th>0</th>\n",
              "      <td>96746</td>\n",
              "      <td>HI</td>\n",
              "    </tr>\n",
              "    <tr>\n",
              "      <th>1</th>\n",
              "      <td>96746</td>\n",
              "      <td>HI</td>\n",
              "    </tr>\n",
              "    <tr>\n",
              "      <th>2</th>\n",
              "      <td>96746</td>\n",
              "      <td>HI</td>\n",
              "    </tr>\n",
              "    <tr>\n",
              "      <th>3</th>\n",
              "      <td>96746</td>\n",
              "      <td>HI</td>\n",
              "    </tr>\n",
              "    <tr>\n",
              "      <th>4</th>\n",
              "      <td>96746</td>\n",
              "      <td>HI</td>\n",
              "    </tr>\n",
              "    <tr>\n",
              "      <th>...</th>\n",
              "      <td>...</td>\n",
              "      <td>...</td>\n",
              "    </tr>\n",
              "    <tr>\n",
              "      <th>61857</th>\n",
              "      <td>36605</td>\n",
              "      <td>AL</td>\n",
              "    </tr>\n",
              "    <tr>\n",
              "      <th>61858</th>\n",
              "      <td>93626</td>\n",
              "      <td>CA</td>\n",
              "    </tr>\n",
              "    <tr>\n",
              "      <th>61859</th>\n",
              "      <td>56721</td>\n",
              "      <td>MN</td>\n",
              "    </tr>\n",
              "    <tr>\n",
              "      <th>61860</th>\n",
              "      <td>55103</td>\n",
              "      <td>MN</td>\n",
              "    </tr>\n",
              "    <tr>\n",
              "      <th>61861</th>\n",
              "      <td>70124</td>\n",
              "      <td>LA</td>\n",
              "    </tr>\n",
              "  </tbody>\n",
              "</table>\n",
              "<p>61862 rows × 2 columns</p>\n",
              "</div>"
            ],
            "text/plain": [
              "       SPRADDR_ZIP_PR state\n",
              "0               96746    HI\n",
              "1               96746    HI\n",
              "2               96746    HI\n",
              "3               96746    HI\n",
              "4               96746    HI\n",
              "...               ...   ...\n",
              "61857           36605    AL\n",
              "61858           93626    CA\n",
              "61859           56721    MN\n",
              "61860           55103    MN\n",
              "61861           70124    LA\n",
              "\n",
              "[61862 rows x 2 columns]"
            ]
          },
          "metadata": {
            "tags": []
          },
          "execution_count": 27
        }
      ]
    },
    {
      "cell_type": "code",
      "metadata": {
        "id": "RncVVWPkSxdW",
        "colab_type": "code",
        "colab": {
          "base_uri": "https://localhost:8080/",
          "height": 1000
        },
        "outputId": "b91e4705-2679-4ae8-dc07-e061aebc2571"
      },
      "source": [
        "grouped = df_cd.groupby('state')['ENROLLMENT'].count().reset_index()\n",
        "grouped"
      ],
      "execution_count": 28,
      "outputs": [
        {
          "output_type": "execute_result",
          "data": {
            "text/html": [
              "<div>\n",
              "<style scoped>\n",
              "    .dataframe tbody tr th:only-of-type {\n",
              "        vertical-align: middle;\n",
              "    }\n",
              "\n",
              "    .dataframe tbody tr th {\n",
              "        vertical-align: top;\n",
              "    }\n",
              "\n",
              "    .dataframe thead th {\n",
              "        text-align: right;\n",
              "    }\n",
              "</style>\n",
              "<table border=\"1\" class=\"dataframe\">\n",
              "  <thead>\n",
              "    <tr style=\"text-align: right;\">\n",
              "      <th></th>\n",
              "      <th>state</th>\n",
              "      <th>ENROLLMENT</th>\n",
              "    </tr>\n",
              "  </thead>\n",
              "  <tbody>\n",
              "    <tr>\n",
              "      <th>0</th>\n",
              "      <td>AK</td>\n",
              "      <td>454</td>\n",
              "    </tr>\n",
              "    <tr>\n",
              "      <th>1</th>\n",
              "      <td>AL</td>\n",
              "      <td>81</td>\n",
              "    </tr>\n",
              "    <tr>\n",
              "      <th>2</th>\n",
              "      <td>AR</td>\n",
              "      <td>47</td>\n",
              "    </tr>\n",
              "    <tr>\n",
              "      <th>3</th>\n",
              "      <td>AZ</td>\n",
              "      <td>768</td>\n",
              "    </tr>\n",
              "    <tr>\n",
              "      <th>4</th>\n",
              "      <td>CA</td>\n",
              "      <td>11661</td>\n",
              "    </tr>\n",
              "    <tr>\n",
              "      <th>5</th>\n",
              "      <td>CO</td>\n",
              "      <td>1218</td>\n",
              "    </tr>\n",
              "    <tr>\n",
              "      <th>6</th>\n",
              "      <td>CT</td>\n",
              "      <td>154</td>\n",
              "    </tr>\n",
              "    <tr>\n",
              "      <th>7</th>\n",
              "      <td>DC</td>\n",
              "      <td>29</td>\n",
              "    </tr>\n",
              "    <tr>\n",
              "      <th>8</th>\n",
              "      <td>DE</td>\n",
              "      <td>42</td>\n",
              "    </tr>\n",
              "    <tr>\n",
              "      <th>9</th>\n",
              "      <td>FL</td>\n",
              "      <td>618</td>\n",
              "    </tr>\n",
              "    <tr>\n",
              "      <th>10</th>\n",
              "      <td>GA</td>\n",
              "      <td>289</td>\n",
              "    </tr>\n",
              "    <tr>\n",
              "      <th>11</th>\n",
              "      <td>HI</td>\n",
              "      <td>34688</td>\n",
              "    </tr>\n",
              "    <tr>\n",
              "      <th>12</th>\n",
              "      <td>IA</td>\n",
              "      <td>87</td>\n",
              "    </tr>\n",
              "    <tr>\n",
              "      <th>13</th>\n",
              "      <td>ID</td>\n",
              "      <td>246</td>\n",
              "    </tr>\n",
              "    <tr>\n",
              "      <th>14</th>\n",
              "      <td>IL</td>\n",
              "      <td>452</td>\n",
              "    </tr>\n",
              "    <tr>\n",
              "      <th>15</th>\n",
              "      <td>IN</td>\n",
              "      <td>160</td>\n",
              "    </tr>\n",
              "    <tr>\n",
              "      <th>16</th>\n",
              "      <td>KS</td>\n",
              "      <td>73</td>\n",
              "    </tr>\n",
              "    <tr>\n",
              "      <th>17</th>\n",
              "      <td>KY</td>\n",
              "      <td>91</td>\n",
              "    </tr>\n",
              "    <tr>\n",
              "      <th>18</th>\n",
              "      <td>LA</td>\n",
              "      <td>87</td>\n",
              "    </tr>\n",
              "    <tr>\n",
              "      <th>19</th>\n",
              "      <td>MA</td>\n",
              "      <td>412</td>\n",
              "    </tr>\n",
              "    <tr>\n",
              "      <th>20</th>\n",
              "      <td>MD</td>\n",
              "      <td>318</td>\n",
              "    </tr>\n",
              "    <tr>\n",
              "      <th>21</th>\n",
              "      <td>ME</td>\n",
              "      <td>82</td>\n",
              "    </tr>\n",
              "    <tr>\n",
              "      <th>22</th>\n",
              "      <td>MH</td>\n",
              "      <td>74</td>\n",
              "    </tr>\n",
              "    <tr>\n",
              "      <th>23</th>\n",
              "      <td>MI</td>\n",
              "      <td>329</td>\n",
              "    </tr>\n",
              "    <tr>\n",
              "      <th>24</th>\n",
              "      <td>MN</td>\n",
              "      <td>344</td>\n",
              "    </tr>\n",
              "    <tr>\n",
              "      <th>25</th>\n",
              "      <td>MO</td>\n",
              "      <td>131</td>\n",
              "    </tr>\n",
              "    <tr>\n",
              "      <th>26</th>\n",
              "      <td>MS</td>\n",
              "      <td>36</td>\n",
              "    </tr>\n",
              "    <tr>\n",
              "      <th>27</th>\n",
              "      <td>MT</td>\n",
              "      <td>137</td>\n",
              "    </tr>\n",
              "    <tr>\n",
              "      <th>28</th>\n",
              "      <td>NC</td>\n",
              "      <td>285</td>\n",
              "    </tr>\n",
              "    <tr>\n",
              "      <th>29</th>\n",
              "      <td>ND</td>\n",
              "      <td>55</td>\n",
              "    </tr>\n",
              "    <tr>\n",
              "      <th>30</th>\n",
              "      <td>NE</td>\n",
              "      <td>65</td>\n",
              "    </tr>\n",
              "    <tr>\n",
              "      <th>31</th>\n",
              "      <td>NH</td>\n",
              "      <td>51</td>\n",
              "    </tr>\n",
              "    <tr>\n",
              "      <th>32</th>\n",
              "      <td>NJ</td>\n",
              "      <td>390</td>\n",
              "    </tr>\n",
              "    <tr>\n",
              "      <th>33</th>\n",
              "      <td>NM</td>\n",
              "      <td>191</td>\n",
              "    </tr>\n",
              "    <tr>\n",
              "      <th>34</th>\n",
              "      <td>NV</td>\n",
              "      <td>435</td>\n",
              "    </tr>\n",
              "    <tr>\n",
              "      <th>35</th>\n",
              "      <td>NY</td>\n",
              "      <td>715</td>\n",
              "    </tr>\n",
              "    <tr>\n",
              "      <th>36</th>\n",
              "      <td>OH</td>\n",
              "      <td>263</td>\n",
              "    </tr>\n",
              "    <tr>\n",
              "      <th>37</th>\n",
              "      <td>OK</td>\n",
              "      <td>112</td>\n",
              "    </tr>\n",
              "    <tr>\n",
              "      <th>38</th>\n",
              "      <td>OR</td>\n",
              "      <td>801</td>\n",
              "    </tr>\n",
              "    <tr>\n",
              "      <th>39</th>\n",
              "      <td>PA</td>\n",
              "      <td>387</td>\n",
              "    </tr>\n",
              "    <tr>\n",
              "      <th>40</th>\n",
              "      <td>RI</td>\n",
              "      <td>57</td>\n",
              "    </tr>\n",
              "    <tr>\n",
              "      <th>41</th>\n",
              "      <td>SC</td>\n",
              "      <td>133</td>\n",
              "    </tr>\n",
              "    <tr>\n",
              "      <th>42</th>\n",
              "      <td>SD</td>\n",
              "      <td>103</td>\n",
              "    </tr>\n",
              "    <tr>\n",
              "      <th>43</th>\n",
              "      <td>TN</td>\n",
              "      <td>190</td>\n",
              "    </tr>\n",
              "    <tr>\n",
              "      <th>44</th>\n",
              "      <td>TX</td>\n",
              "      <td>975</td>\n",
              "    </tr>\n",
              "    <tr>\n",
              "      <th>45</th>\n",
              "      <td>UT</td>\n",
              "      <td>312</td>\n",
              "    </tr>\n",
              "    <tr>\n",
              "      <th>46</th>\n",
              "      <td>VA</td>\n",
              "      <td>472</td>\n",
              "    </tr>\n",
              "    <tr>\n",
              "      <th>47</th>\n",
              "      <td>VT</td>\n",
              "      <td>48</td>\n",
              "    </tr>\n",
              "    <tr>\n",
              "      <th>48</th>\n",
              "      <td>WA</td>\n",
              "      <td>2161</td>\n",
              "    </tr>\n",
              "    <tr>\n",
              "      <th>49</th>\n",
              "      <td>WI</td>\n",
              "      <td>212</td>\n",
              "    </tr>\n",
              "    <tr>\n",
              "      <th>50</th>\n",
              "      <td>WV</td>\n",
              "      <td>33</td>\n",
              "    </tr>\n",
              "    <tr>\n",
              "      <th>51</th>\n",
              "      <td>WY</td>\n",
              "      <td>72</td>\n",
              "    </tr>\n",
              "  </tbody>\n",
              "</table>\n",
              "</div>"
            ],
            "text/plain": [
              "   state  ENROLLMENT\n",
              "0     AK         454\n",
              "1     AL          81\n",
              "2     AR          47\n",
              "3     AZ         768\n",
              "4     CA       11661\n",
              "5     CO        1218\n",
              "6     CT         154\n",
              "7     DC          29\n",
              "8     DE          42\n",
              "9     FL         618\n",
              "10    GA         289\n",
              "11    HI       34688\n",
              "12    IA          87\n",
              "13    ID         246\n",
              "14    IL         452\n",
              "15    IN         160\n",
              "16    KS          73\n",
              "17    KY          91\n",
              "18    LA          87\n",
              "19    MA         412\n",
              "20    MD         318\n",
              "21    ME          82\n",
              "22    MH          74\n",
              "23    MI         329\n",
              "24    MN         344\n",
              "25    MO         131\n",
              "26    MS          36\n",
              "27    MT         137\n",
              "28    NC         285\n",
              "29    ND          55\n",
              "30    NE          65\n",
              "31    NH          51\n",
              "32    NJ         390\n",
              "33    NM         191\n",
              "34    NV         435\n",
              "35    NY         715\n",
              "36    OH         263\n",
              "37    OK         112\n",
              "38    OR         801\n",
              "39    PA         387\n",
              "40    RI          57\n",
              "41    SC         133\n",
              "42    SD         103\n",
              "43    TN         190\n",
              "44    TX         975\n",
              "45    UT         312\n",
              "46    VA         472\n",
              "47    VT          48\n",
              "48    WA        2161\n",
              "49    WI         212\n",
              "50    WV          33\n",
              "51    WY          72"
            ]
          },
          "metadata": {
            "tags": []
          },
          "execution_count": 28
        }
      ]
    },
    {
      "cell_type": "code",
      "metadata": {
        "id": "NWlvTsU9TJPq",
        "colab_type": "code",
        "colab": {}
      },
      "source": [
        "df_cd.to_csv('zip_code_summary.csv')"
      ],
      "execution_count": 29,
      "outputs": []
    },
    {
      "cell_type": "code",
      "metadata": {
        "id": "utfGtmYrThXc",
        "colab_type": "code",
        "colab": {
          "base_uri": "https://localhost:8080/",
          "height": 283
        },
        "outputId": "991a8e5f-d209-4b6c-9a2e-ad3c409cab3b"
      },
      "source": [
        "import numpy as np\n",
        "import matplotlib.pyplot as plt\n",
        "df_nh=df_cd[df_cd['IRO_INSTITUTION_DESCL'] != 'University of Hawai`i at Manoa']\n",
        "x = df_nh[\"IRO_INSTITUTION_DESCL\"].tolist()\n",
        "y = df_nh[\"ENROLLMENT\"].tolist()\n",
        "x_top=x[:15]\n",
        "y_top=y[:15]\n",
        "plt.plot(x_top, y_top)"
      ],
      "execution_count": 32,
      "outputs": [
        {
          "output_type": "execute_result",
          "data": {
            "text/plain": [
              "[<matplotlib.lines.Line2D at 0x7f60d76574e0>]"
            ]
          },
          "metadata": {
            "tags": []
          },
          "execution_count": 32
        },
        {
          "output_type": "display_data",
          "data": {
            "image/png": "[encoded data removed]",
            "text/plain": [
              "<Figure size 432x288 with 1 Axes>"
            ]
          },
          "metadata": {
            "tags": [],
            "needs_background": "light"
          }
        }
      ]
    }
  ]
}